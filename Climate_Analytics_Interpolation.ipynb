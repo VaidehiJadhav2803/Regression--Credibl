{
  "nbformat": 4,
  "nbformat_minor": 0,
  "metadata": {
    "colab": {
      "provenance": [],
      "authorship_tag": "ABX9TyO31KZGVDsZjWyZNT1dx4ql",
      "include_colab_link": true
    },
    "kernelspec": {
      "name": "python3",
      "display_name": "Python 3"
    },
    "language_info": {
      "name": "python"
    }
  },
  "cells": [
    {
      "cell_type": "markdown",
      "metadata": {
        "id": "view-in-github",
        "colab_type": "text"
      },
      "source": [
        "<a href=\"https://colab.research.google.com/github/VaidehiJadhav2803/Regression--Credibl/blob/main/Climate_Analytics_Interpolation.ipynb\" target=\"_parent\"><img src=\"https://colab.research.google.com/assets/colab-badge.svg\" alt=\"Open In Colab\"/></a>"
      ]
    },
    {
      "cell_type": "code",
      "execution_count": 4,
      "metadata": {
        "colab": {
          "base_uri": "https://localhost:8080/"
        },
        "id": "1gVZ_YP57j69",
        "outputId": "f99dcfc4-962c-4e88-88bc-9eb591e9d0c0"
      },
      "outputs": [
        {
          "output_type": "stream",
          "name": "stdout",
          "text": [
            "    Years  LPDHT(net zero)  LPDHT(fragmented world)  LPDHT(delayed transition)\n",
            "0    2015        -2.699531                -2.699531                  -2.699531\n",
            "1    2016        -2.779658                -2.779658                  -2.779658\n",
            "2    2017        -2.859785                -2.859785                  -2.859785\n",
            "3    2018        -2.939912                -2.939912                  -2.939912\n",
            "4    2019        -3.020039                -3.020039                  -3.020039\n",
            "5    2020        -3.100166                -3.100166                  -3.100166\n",
            "6    2021        -3.288227                -3.288227                  -3.288227\n",
            "7    2022        -3.476288                -3.476288                  -3.476288\n",
            "8    2023        -3.664349                -3.664349                  -3.664349\n",
            "9    2024        -3.852410                -3.852410                  -3.852410\n",
            "10   2025        -4.040471                -4.040471                  -4.040471\n",
            "11   2026        -4.148049                -4.148049                  -4.148049\n",
            "12   2027        -4.255628                -4.255628                  -4.255628\n",
            "13   2028        -4.363206                -4.363206                  -4.363206\n",
            "14   2029        -4.470785                -4.470785                  -4.470785\n",
            "15   2030        -4.578363                -4.578363                  -4.578363\n",
            "16   2031        -4.578363                -4.693048                  -4.693048\n",
            "17   2032        -4.578363                -4.807733                  -4.807733\n",
            "18   2033        -4.578363                -4.922418                  -4.922418\n",
            "19   2034        -4.578363                -5.037103                  -5.037103\n",
            "20   2035        -4.578363                -5.151788                  -5.151788\n",
            "21   2036        -4.693048                -5.249816                  -5.249816\n",
            "22   2037        -4.807733                -5.347844                  -5.347844\n",
            "23   2038        -4.922418                -5.445871                  -5.445871\n",
            "24   2039        -5.037103                -5.543899                  -5.543899\n",
            "25   2040        -5.151788                -5.641927                  -5.641927\n",
            "26   2041        -5.037103                -5.742115                  -5.641927\n",
            "27   2042        -4.922418                -5.842304                  -5.641927\n",
            "28   2043        -4.807733                -5.942492                  -5.641927\n",
            "29   2044        -4.693048                -6.042681                  -5.641927\n",
            "30   2045        -4.578363                -6.142869                  -5.641927\n",
            "31   2046        -4.578363                -6.235834                  -5.641927\n",
            "32   2047        -4.578363                -6.328799                  -5.641927\n",
            "33   2048        -4.578363                -6.421764                  -5.641927\n",
            "34   2049        -4.578363                -6.514729                  -5.641927\n",
            "35   2050        -4.578363                -6.607694                  -5.641927\n",
            "Interpolated data saved to interpolated_data_analytics.csv\n"
          ]
        }
      ],
      "source": [
        "import pandas as pd\n",
        "import numpy as np\n",
        "\n",
        "\n",
        "data = pd.read_excel(\"/content/linearextra_analytics data.xlsx\")\n",
        "\n",
        "df = pd.DataFrame(data)\n",
        "\n",
        "all_years = np.arange(2015, 2051)\n",
        "\n",
        "interpolated_data = {}\n",
        "\n",
        "for column in df.columns[1:]:\n",
        "    interpolated_values = np.interp(all_years, df['Years'], df[column])\n",
        "    interpolated_data[column] = interpolated_values\n",
        "\n",
        "interpolated_df = pd.DataFrame({'Years': all_years})\n",
        "\n",
        "for column, values in interpolated_data.items():\n",
        "    interpolated_df[column] = values\n",
        "\n",
        "print(interpolated_df)\n",
        "\n",
        "output_file = 'interpolated_data_analytics.csv'\n",
        "interpolated_df.to_csv(output_file, index=False)\n",
        "\n",
        "print(f\"Interpolated data saved to {output_file}\")\n"
      ]
    },
    {
      "cell_type": "code",
      "source": [],
      "metadata": {
        "id": "0uO7PxrL8LfF"
      },
      "execution_count": null,
      "outputs": []
    }
  ]
}