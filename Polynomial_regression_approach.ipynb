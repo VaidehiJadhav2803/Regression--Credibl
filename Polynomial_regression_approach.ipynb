{
  "nbformat": 4,
  "nbformat_minor": 0,
  "metadata": {
    "colab": {
      "provenance": [],
      "authorship_tag": "ABX9TyON5e08kFbqe0ggpw8pWJNr",
      "include_colab_link": true
    },
    "kernelspec": {
      "name": "python3",
      "display_name": "Python 3"
    },
    "language_info": {
      "name": "python"
    }
  },
  "cells": [
    {
      "cell_type": "markdown",
      "metadata": {
        "id": "view-in-github",
        "colab_type": "text"
      },
      "source": [
        "<a href=\"https://colab.research.google.com/github/VaidehiJadhav2803/Regression--Credibl/blob/main/Polynomial_regression_approach.ipynb\" target=\"_parent\"><img src=\"https://colab.research.google.com/assets/colab-badge.svg\" alt=\"Open In Colab\"/></a>"
      ]
    },
    {
      "cell_type": "code",
      "execution_count": null,
      "metadata": {
        "colab": {
          "base_uri": "https://localhost:8080/"
        },
        "id": "7X8Fji-epMtM",
        "outputId": "e0de792a-d942-4db5-c03a-eda17efd7121"
      },
      "outputs": [
        {
          "output_type": "stream",
          "name": "stdout",
          "text": [
            "   Years   EBITDA      DA     EBIT  Retained Earnings     Sales  \\\n",
            "0   2016      NaN     NaN      NaN                NaN       NaN   \n",
            "1   2017      NaN     NaN      NaN                NaN       NaN   \n",
            "2   2018  14794.0  3054.0  11740.0             7528.0   67936.0   \n",
            "3   2019  18952.0  3421.0  15531.0            13736.0   77246.0   \n",
            "4   2020  11873.0  3522.0   8351.0            17709.0   64890.0   \n",
            "5   2021  20141.0  3781.0  16360.0            25678.0   71396.0   \n",
            "6   2022  39007.0  4511.0  34496.0            40245.0  120749.0   \n",
            "7   2023  18547.0  4952.0  13595.0            42627.0  166990.0   \n",
            "\n",
            "   Total liablities  Current assets  Current liablities  Working cap  \\\n",
            "0               NaN             NaN                 NaN          NaN   \n",
            "1               NaN             NaN                 NaN          NaN   \n",
            "2           64484.0         19253.0             25205.0      -5952.0   \n",
            "3           80569.0         28009.0             34398.0      -6389.0   \n",
            "4           83680.0         29375.0             35594.0      -6219.0   \n",
            "5           86255.0         29703.0             37040.0      -7337.0   \n",
            "6           99369.0         47485.0             46134.0       1351.0   \n",
            "7          109182.0         49144.0             49335.0       -191.0   \n",
            "\n",
            "   Market cap  \n",
            "0         NaN  \n",
            "1         NaN  \n",
            "2     68500.0  \n",
            "3     70837.0  \n",
            "4     35352.0  \n",
            "5    113235.0  \n",
            "6    177098.0  \n",
            "7    166329.0  \n"
          ]
        }
      ],
      "source": [
        "import pandas as pd\n",
        "import numpy as np\n",
        "import matplotlib.pyplot as plt\n",
        "from sklearn.linear_model import LinearRegression\n",
        "from sklearn.preprocessing import PolynomialFeatures\n",
        "\n",
        "data = pd.read_excel('roa_poly regression.xlsx')\n",
        "print(data)"
      ]
    },
    {
      "cell_type": "code",
      "source": [
        "data.fillna(0, inplace=True)"
      ],
      "metadata": {
        "id": "LmZypHqdrrC2"
      },
      "execution_count": null,
      "outputs": []
    },
    {
      "cell_type": "code",
      "source": [
        "X = data['Years'].values.reshape(-1, 1)\n",
        "y = data[['EBITDA','DA','EBIT','Retained Earnings','Sales','Total liablities','Current assets','Current liablities','Working cap','Market cap']].values\n",
        "\n",
        "# Creating a polynomial feature set with a degree of 3 (for example)\n",
        "poly = PolynomialFeatures(degree=3)\n",
        "X_poly = poly.fit_transform(X)\n",
        "\n",
        "# Fitting the polynomial regression model\n",
        "model = LinearRegression()\n",
        "model.fit(X_poly, y)\n",
        "\n",
        "# Predicting the EBIT for years 2024-2050\n",
        "future_years = np.arange(2024, 2051).reshape(-1, 1)\n",
        "future_years_poly = poly.transform(future_years)\n",
        "future_pred = model.predict(future_years_poly)\n",
        "\n",
        "\n",
        "future_data = pd.DataFrame(future_pred, columns=['EBITDA','DA','EBIT','Retained Earnings','Sales','Total liablities','Current assets','Current liablities','Working cap','Market cap'])"
      ],
      "metadata": {
        "id": "BYY2IIDMqURk"
      },
      "execution_count": null,
      "outputs": []
    },
    {
      "cell_type": "code",
      "source": [
        "\n",
        "future_data['Years'] = future_years\n",
        "\n",
        "future_data = future_data[['Years','EBITDA','DA','EBIT','Retained Earnings','Sales','Total liablities','Current assets','Current liablities','Working cap','Market cap']]\n",
        "\n",
        "# Save to CSV\n",
        "future_data.to_csv('POLY_REG.csv', index=False)\n",
        "\n",
        "print(\"Predictions saved to POLY_REG.csv\")"
      ],
      "metadata": {
        "colab": {
          "base_uri": "https://localhost:8080/"
        },
        "id": "8HbYMDySsF2L",
        "outputId": "f94d0506-7c8d-4076-f3e6-da8b1a39df52"
      },
      "execution_count": null,
      "outputs": [
        {
          "output_type": "stream",
          "name": "stdout",
          "text": [
            "Predictions saved to POLY_REG.csv\n"
          ]
        }
      ]
    },
    {
      "cell_type": "code",
      "source": [
        "import pandas as pd\n",
        "import numpy as np\n",
        "import matplotlib.pyplot as plt\n",
        "from sklearn.linear_model import LinearRegression\n",
        "from sklearn.preprocessing import PolynomialFeatures\n",
        "\n",
        "data1 = pd.read_excel('/content/roaroa_jsw steel.xlsx')\n",
        "print(data1)"
      ],
      "metadata": {
        "colab": {
          "base_uri": "https://localhost:8080/"
        },
        "id": "GoYnBpXxsvHt",
        "outputId": "b0b4f96f-421d-4089-df12-95c394f50920"
      },
      "execution_count": null,
      "outputs": [
        {
          "output_type": "stream",
          "name": "stdout",
          "text": [
            "   Years  Total assets- current year  Total assets- previous year  \\\n",
            "0   2018                     92018.0                        80911   \n",
            "1   2019                    104902.0                        92018   \n",
            "2   2020                    122042.0                       104902   \n",
            "3   2021                    133232.0                       122042   \n",
            "4   2022                    162870.0                       133232   \n",
            "5   2023                    167959.9                       162870   \n",
            "\n",
            "   Average assets  Profit before tax  Tax expense  Net profit  \n",
            "0        86464.50               7075     2450.000    4625.000  \n",
            "1        98460.00              11817     3558.000    8259.000  \n",
            "2       113472.00               3013     -999.000    4012.000  \n",
            "3       127637.00              12052     3803.000    8249.000  \n",
            "4       148051.00              24715     8013.000   16702.000  \n",
            "5       165414.95              21104     6209.571   14894.429  \n"
          ]
        }
      ]
    },
    {
      "cell_type": "code",
      "source": [
        "X1 = data1['Years'].values.reshape(-1, 1)\n",
        "y1 = data1[['Total assets- current year','Total assets- previous year','Average assets','Profit before tax','Tax expense','Net profit']].values\n",
        "\n",
        "# Creating a polynomial feature set with a degree of 3 (for example)\n",
        "poly = PolynomialFeatures(degree=3)\n",
        "X_poly = poly.fit_transform(X1)\n",
        "\n",
        "# Fitting the polynomial regression model\n",
        "model = LinearRegression()\n",
        "model.fit(X_poly, y1)\n",
        "\n",
        "# Predicting the EBIT for years 2024-2050\n",
        "future_years = np.arange(2024, 2051).reshape(-1, 1)\n",
        "future_years_poly = poly.transform(future_years)\n",
        "future_pred1 = model.predict(future_years_poly)\n",
        "\n",
        "\n",
        "future_data = pd.DataFrame(future_pred1, columns=['Total assets- current year','Total assets- previous year','Average assets','Profit before tax','Tax expense','Net profit'])"
      ],
      "metadata": {
        "id": "0xw7GvjI4ust"
      },
      "execution_count": null,
      "outputs": []
    },
    {
      "cell_type": "code",
      "source": [
        "future_data['Years'] = future_years\n",
        "\n",
        "future_data = future_data[['Years','Total assets- current year','Total assets- previous year','Average assets','Profit before tax','Tax expense','Net profit']]\n",
        "\n",
        "# Save to CSV\n",
        "future_data.to_csv('ROA_POLY_REG.csv', index=False)\n",
        "\n",
        "print(\"Predictions saved.csv\")"
      ],
      "metadata": {
        "colab": {
          "base_uri": "https://localhost:8080/"
        },
        "id": "feOlgoUa5Ha2",
        "outputId": "872c39f9-0a00-4233-cc0f-0fae19a5e67e"
      },
      "execution_count": null,
      "outputs": [
        {
          "output_type": "stream",
          "name": "stdout",
          "text": [
            "Predictions saved.csv\n"
          ]
        }
      ]
    },
    {
      "cell_type": "code",
      "source": [
        "import pandas as pd\n",
        "import numpy as np\n",
        "import matplotlib.pyplot as plt\n",
        "from sklearn.linear_model import LinearRegression\n",
        "from sklearn.preprocessing import PolynomialFeatures\n",
        "\n",
        "data2 = pd.read_excel('/content/UL_POLY_REG_PD AND ROA.xlsx')\n",
        "print(data2)"
      ],
      "metadata": {
        "id": "a1rY359-6EyU",
        "colab": {
          "base_uri": "https://localhost:8080/"
        },
        "outputId": "b5a2b410-e2b8-4b19-d0e7-af81b75cb1b8"
      },
      "execution_count": 53,
      "outputs": [
        {
          "output_type": "stream",
          "name": "stdout",
          "text": [
            "   Years  Total assets- current year  Total assets- previous year  \\\n",
            "0   2018                       12050                            0   \n",
            "1   2019                       13903                        12050   \n",
            "2   2020                       13828                        13903   \n",
            "3   2021                       15283                        13828   \n",
            "4   2022                       19633                        15283   \n",
            "5   2023                       17944                        19633   \n",
            "\n",
            "   Average assets  Profit before tax  Tax expense  Net profit  EBITDA    DA  \\\n",
            "0         12050.0                576           28         548    3517   666   \n",
            "1         12976.5                486           81         405    6312   724   \n",
            "2         13865.5                538           77         461    7452  2230   \n",
            "3         14555.5                434          214         220    8559   977   \n",
            "4         17458.0               1261           85        1176   10165  1044   \n",
            "5         18788.5               1284          309         975   11178   951   \n",
            "\n",
            "    EBIT  Retained Earnings  Sales  Total liablities  Current assets  \\\n",
            "0   2851               7500   7809             12050            4561   \n",
            "1   5588              12306   9220             13903            6152   \n",
            "2   5222              16143  10147              5804            5600   \n",
            "3   7582              17748  11458              7497            7257   \n",
            "4   9121              15395  17080             11432           11486   \n",
            "5  10227              20341  19245             10876            9316   \n",
            "\n",
            "   Current liablities  Working cap  Market value of equity  \n",
            "0                7642        -3081                   17378  \n",
            "1               15564        -9412                   21837  \n",
            "2                5096          504                   35756  \n",
            "3                6793          464                   38694  \n",
            "4               10053         1433                   46240  \n",
            "5                8750          566                   53576  \n"
          ]
        }
      ]
    },
    {
      "cell_type": "code",
      "source": [
        "print(data2.columns)"
      ],
      "metadata": {
        "colab": {
          "base_uri": "https://localhost:8080/"
        },
        "id": "iwAHCP8NGWAn",
        "outputId": "dee92d01-e8b5-4d6a-bffb-f2ae15b8ecc9"
      },
      "execution_count": 54,
      "outputs": [
        {
          "output_type": "stream",
          "name": "stdout",
          "text": [
            "Index(['Years', 'Total assets- current year', 'Total assets- previous year',\n",
            "       'Average assets', 'Profit before tax', 'Tax expense', 'Net profit',\n",
            "       'EBITDA', 'DA', 'EBIT', 'Retained Earnings', 'Sales',\n",
            "       'Total liablities', 'Current assets', 'Current liablities',\n",
            "       'Working cap', 'Market value of equity'],\n",
            "      dtype='object')\n"
          ]
        }
      ]
    },
    {
      "cell_type": "code",
      "source": [
        "X2 = data2['Years'].values.reshape(-1, 1)\n",
        "y2 = data2[['Total assets- current year', 'Total assets- previous year',\n",
        "       'Average assets', 'Profit before tax', 'Tax expense', 'Net profit',\n",
        "       'EBITDA', 'DA', 'EBIT', 'Retained Earnings', 'Sales',\n",
        "       'Total liablities', 'Current assets', 'Current liablities',\n",
        "       'Working cap', 'Market value of equity']].values\n",
        "\n",
        "# Creating a polynomial feature set with a degree of 3 (for example)\n",
        "poly = PolynomialFeatures(degree=3)\n",
        "X_poly = poly.fit_transform(X2)\n",
        "\n",
        "# Fitting the polynomial regression model\n",
        "model = LinearRegression()\n",
        "model.fit(X_poly, y2)\n",
        "\n",
        "# Predicting the EBIT for years 2024-2050\n",
        "future_years = np.arange(2024, 2051).reshape(-1, 1)\n",
        "future_years_poly = poly.transform(future_years)\n",
        "future_pred = model.predict(future_years_poly)\n",
        "\n",
        "\n",
        "future_data = pd.DataFrame(future_pred, columns=[['Total assets- current year', 'Total assets- previous year',\n",
        "       'Average assets', 'Profit before tax', 'Tax expense', 'Net profit',\n",
        "       'EBITDA', 'DA', 'EBIT', 'Retained Earnings', 'Sales',\n",
        "       'Total liablities', 'Current assets', 'Current liablities',\n",
        "       'Working cap', 'Market value of equity']])"
      ],
      "metadata": {
        "id": "851610JLFpNz"
      },
      "execution_count": 55,
      "outputs": []
    },
    {
      "cell_type": "code",
      "source": [
        "future_data['Years'] = future_years\n",
        "\n",
        "future_data = future_data[['Years','Total assets- current year', 'Total assets- previous year',\n",
        "       'Average assets', 'Profit before tax', 'Tax expense', 'Net profit',\n",
        "       'EBITDA', 'DA', 'EBIT', 'Retained Earnings', 'Sales',\n",
        "       'Total liablities', 'Current assets', 'Current liablities',\n",
        "       'Working cap', 'Market value of equity']]\n",
        "\n",
        "# Save to CSV\n",
        "future_data.to_csv('UPL_ROAANDPD_POLY REG1.csv', index=False)\n",
        "\n",
        "print(\"Predictions saved.csv\")"
      ],
      "metadata": {
        "colab": {
          "base_uri": "https://localhost:8080/"
        },
        "id": "yBKiWAvUGoLC",
        "outputId": "cbb8a9ae-2cbc-498d-bb8a-d265711a70bb"
      },
      "execution_count": 56,
      "outputs": [
        {
          "output_type": "stream",
          "name": "stdout",
          "text": [
            "Predictions saved.csv\n"
          ]
        }
      ]
    },
    {
      "cell_type": "code",
      "source": [],
      "metadata": {
        "id": "5XJUtxw5IEOp"
      },
      "execution_count": 56,
      "outputs": []
    }
  ]
}