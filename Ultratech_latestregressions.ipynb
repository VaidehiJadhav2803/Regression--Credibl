{
  "nbformat": 4,
  "nbformat_minor": 0,
  "metadata": {
    "colab": {
      "provenance": [],
      "authorship_tag": "ABX9TyO3bQhquNHLLYz4scWJSqVU",
      "include_colab_link": true
    },
    "kernelspec": {
      "name": "python3",
      "display_name": "Python 3"
    },
    "language_info": {
      "name": "python"
    }
  },
  "cells": [
    {
      "cell_type": "markdown",
      "metadata": {
        "id": "view-in-github",
        "colab_type": "text"
      },
      "source": [
        "<a href=\"https://colab.research.google.com/github/VaidehiJadhav2803/Regression--Credibl/blob/main/Ultratech_latestregressions.ipynb\" target=\"_parent\"><img src=\"https://colab.research.google.com/assets/colab-badge.svg\" alt=\"Open In Colab\"/></a>"
      ]
    },
    {
      "cell_type": "code",
      "execution_count": null,
      "metadata": {
        "colab": {
          "base_uri": "https://localhost:8080/"
        },
        "id": "9A4RE4PGRX3t",
        "outputId": "b968d8f6-ce62-4082-e3c9-2a2b5fe2315c"
      },
      "outputs": [
        {
          "output_type": "stream",
          "name": "stdout",
          "text": [
            "   Years  Market value of equity(in crores)  Total Assets(in crores)  \\\n",
            "0   2016                            88601.0                    38290   \n",
            "1   2017                           109385.0                    38281   \n",
            "2   2018                           108473.0                    52373   \n",
            "3   2019                           109812.0                    58436   \n",
            "4   2020                            93656.0                    71816   \n",
            "5   2021                           194493.0                    80416   \n",
            "6   2022                           190589.0                    80661   \n",
            "7   2023                           220041.0                    86900   \n",
            "8   2024                           280000.0                    96630   \n",
            "\n",
            "   Total liablities( in crores)  EBIT (In crores)  Current Assets(in crores)  \\\n",
            "0                         16658              3810                    9735.00   \n",
            "1                         15339              4361                   12475.00   \n",
            "2                         28449              4719                   10585.00   \n",
            "3                         30488              4982                   11478.00   \n",
            "4                         33520              6924                   14714.00   \n",
            "5                         37065              9319                   22982.00   \n",
            "6                         31390              9091                   18983.00   \n",
            "7                         35005              8001                   21847.00   \n",
            "8                         37535             10255                   21036.66   \n",
            "\n",
            "   Current liabilities(in crores)  Working capital(in crores)  \\\n",
            "0                           11298                     -574.00   \n",
            "1                            8058                     -956.00   \n",
            "2                           11225                     -640.00   \n",
            "3                           11863                     -385.00   \n",
            "4                           14263                      451.00   \n",
            "5                           19587                    -1878.00   \n",
            "6                           19172                    -1564.00   \n",
            "7                           22248                    -2707.00   \n",
            "8                           24961                    -3924.34   \n",
            "\n",
            "   Sales(in crores)  Retained earnings(in crores)  WC/Total assets   \\\n",
            "0             27427                        4613.0         -0.014991   \n",
            "1             27822                        5099.0         -0.024973   \n",
            "2             30851                        5042.0         -0.012220   \n",
            "3             36174                        5299.0         -0.006588   \n",
            "4             42772                        5372.0          0.006280   \n",
            "5             43188                        5893.0         -0.023354   \n",
            "6             50663                        7091.0         -0.019390   \n",
            "7             61326                        7934.0         -0.031151   \n",
            "8             69302                        9924.6         -0.040612   \n",
            "\n",
            "   RE/Total Assets  EBIDTA/Total Assets  Market Cap/Total liablities  \\\n",
            "0         0.120475             0.099504                     5.318826   \n",
            "1         0.133199             0.113921                     7.131169   \n",
            "2         0.096271             0.090104                     3.812893   \n",
            "3         0.090680             0.085256                     3.601811   \n",
            "4         0.074802             0.096413                     2.794033   \n",
            "5         0.073281             0.115885                     5.247349   \n",
            "6         0.087911             0.112706                     6.071647   \n",
            "7         0.091300             0.092071                     6.285988   \n",
            "8         0.102707             0.106126                     7.459704   \n",
            "\n",
            "   Sales/Total Assets  ALTMANS ZSCORE  \n",
            "0            0.716297        4.386631  \n",
            "1            0.726784        5.537934  \n",
            "2            0.589063        3.294256  \n",
            "3            0.619036        3.180513  \n",
            "4            0.595578        2.702420  \n",
            "5            0.537057        4.142457  \n",
            "6            0.628098        4.742825  \n",
            "7            0.705708        4.871575  \n",
            "8            0.717189        5.638285  \n"
          ]
        }
      ],
      "source": [
        "from sklearn.linear_model import LinearRegression\n",
        "import numpy as np\n",
        "import pandas as pd\n",
        "\n",
        "data= pd.read_csv(\"/content/ULTRATECH- climate parameter and regressions - Sheet1.csv\")\n",
        "\n",
        "data['Market value of equity(in crores)'] = data['Market value of equity(in crores)'].str.replace(',', '').astype(float)\n",
        "\n",
        "data = data.drop(columns=['Total current liabilities'])\n",
        "data = data.drop(columns=['Total Non current liabilities'])\n",
        "\n",
        "print(data)"
      ]
    },
    {
      "cell_type": "code",
      "source": [
        "data.columns"
      ],
      "metadata": {
        "colab": {
          "base_uri": "https://localhost:8080/"
        },
        "id": "2L1v1FhmU-VG",
        "outputId": "c3272c93-c4a5-49b9-a604-c6fc41db3cf3"
      },
      "execution_count": null,
      "outputs": [
        {
          "output_type": "execute_result",
          "data": {
            "text/plain": [
              "Index(['Years', 'Market value of equity(in crores)', 'Total Assets(in crores)',\n",
              "       'Total liablities( in crores)', 'EBIT (In crores)',\n",
              "       'Current Assets(in crores)', 'Current liabilities(in crores)',\n",
              "       'Working capital(in crores)', 'Sales(in crores)',\n",
              "       'Retained earnings(in crores)', 'WC/Total assets ', 'RE/Total Assets',\n",
              "       'EBIDTA/Total Assets', 'Market Cap/Total liablities',\n",
              "       'Sales/Total Assets', 'ALTMANS ZSCORE'],\n",
              "      dtype='object')"
            ]
          },
          "metadata": {},
          "execution_count": 15
        }
      ]
    },
    {
      "cell_type": "code",
      "source": [
        "future_years = np.arange(2021, 2101).reshape(-1, 1)\n",
        "\n",
        "predictions_df = pd.DataFrame({'Years': np.arange(data['Years'].min(), 2101)})\n",
        "\n",
        "for column in data.columns[1:]:\n",
        "    X = data['Years'].values.reshape(-1, 1)\n",
        "    y = data[column].values\n",
        "\n",
        "    model = LinearRegression()\n",
        "    model.fit(X, y)\n",
        "\n",
        "    future_predictions = model.predict(future_years)\n",
        "    predictions_df.head(), predictions_df.tail()"
      ],
      "metadata": {
        "id": "BLf3487_TM6O"
      },
      "execution_count": null,
      "outputs": []
    },
    {
      "cell_type": "code",
      "source": [
        "# Create a DataFrame for future predictions\n",
        "future_data = pd.DataFrame(future_predictions, columns=['Market value of equity(in crores)', 'Total Assets(in crores)',\n",
        "       'Total liablities( in crores)', 'EBIT (In crores)',\n",
        "       'Current Assets(in crores)', 'Current liabilities(in crores)',\n",
        "       'Working capital(in crores)', 'Sales(in crores)',\n",
        "       'Retained earnings(in crores)', 'WC/Total assets ', 'RE/Total Assets',\n",
        "       'EBIDTA/Total Assets', 'Market Cap/Total liablities',\n",
        "       'Sales/Total Assets', 'ALTMANS ZSCORE'])\n",
        "future_data['Years'] = future_years\n",
        "\n",
        "# Reorder columns to have 'Year' first\n",
        "future_data = future_data[['Years', 'Market value of equity(in crores)', 'Total Assets(in crores)',\n",
        "       'Total liablities( in crores)', 'EBIT (In crores)',\n",
        "       'Current Assets(in crores)', 'Current liabilities(in crores)',\n",
        "       'Working capital(in crores)', 'Sales(in crores)',\n",
        "       'Retained earnings(in crores)', 'WC/Total assets ', 'RE/Total Assets',\n",
        "       'EBIDTA/Total Assets', 'Market Cap/Total liablities',\n",
        "       'Sales/Total Assets', 'ALTMANS ZSCORE']]\n",
        "\n",
        "# Save to CSV\n",
        "future_data.to_csv('future_predictions.csv', index=False)\n",
        "\n",
        "print(\"Predictions saved to future_predictions1.csv\")\n"
      ],
      "metadata": {
        "colab": {
          "base_uri": "https://localhost:8080/",
          "height": 423
        },
        "id": "vRezNMxxUQjz",
        "outputId": "1d6cc71f-b4cf-45b2-c16d-d9331caf8137"
      },
      "execution_count": null,
      "outputs": [
        {
          "output_type": "error",
          "ename": "ValueError",
          "evalue": "Shape of passed values is (80, 1), indices imply (80, 15)",
          "traceback": [
            "\u001b[0;31m---------------------------------------------------------------------------\u001b[0m",
            "\u001b[0;31mValueError\u001b[0m                                Traceback (most recent call last)",
            "\u001b[0;32m<ipython-input-17-d802ec3de65d>\u001b[0m in \u001b[0;36m<cell line: 2>\u001b[0;34m()\u001b[0m\n\u001b[1;32m      1\u001b[0m \u001b[0;31m# Create a DataFrame for future predictions\u001b[0m\u001b[0;34m\u001b[0m\u001b[0;34m\u001b[0m\u001b[0m\n\u001b[0;32m----> 2\u001b[0;31m future_data = pd.DataFrame(future_predictions, columns=['Market value of equity(in crores)', 'Total Assets(in crores)',\n\u001b[0m\u001b[1;32m      3\u001b[0m        \u001b[0;34m'Total liablities( in crores)'\u001b[0m\u001b[0;34m,\u001b[0m \u001b[0;34m'EBIT (In crores)'\u001b[0m\u001b[0;34m,\u001b[0m\u001b[0;34m\u001b[0m\u001b[0;34m\u001b[0m\u001b[0m\n\u001b[1;32m      4\u001b[0m        \u001b[0;34m'Current Assets(in crores)'\u001b[0m\u001b[0;34m,\u001b[0m \u001b[0;34m'Current liabilities(in crores)'\u001b[0m\u001b[0;34m,\u001b[0m\u001b[0;34m\u001b[0m\u001b[0;34m\u001b[0m\u001b[0m\n\u001b[1;32m      5\u001b[0m        \u001b[0;34m'Working capital(in crores)'\u001b[0m\u001b[0;34m,\u001b[0m \u001b[0;34m'Sales(in crores)'\u001b[0m\u001b[0;34m,\u001b[0m\u001b[0;34m\u001b[0m\u001b[0;34m\u001b[0m\u001b[0m\n",
            "\u001b[0;32m/usr/local/lib/python3.10/dist-packages/pandas/core/frame.py\u001b[0m in \u001b[0;36m__init__\u001b[0;34m(self, data, index, columns, dtype, copy)\u001b[0m\n\u001b[1;32m    756\u001b[0m                 )\n\u001b[1;32m    757\u001b[0m             \u001b[0;32melse\u001b[0m\u001b[0;34m:\u001b[0m\u001b[0;34m\u001b[0m\u001b[0;34m\u001b[0m\u001b[0m\n\u001b[0;32m--> 758\u001b[0;31m                 mgr = ndarray_to_mgr(\n\u001b[0m\u001b[1;32m    759\u001b[0m                     \u001b[0mdata\u001b[0m\u001b[0;34m,\u001b[0m\u001b[0;34m\u001b[0m\u001b[0;34m\u001b[0m\u001b[0m\n\u001b[1;32m    760\u001b[0m                     \u001b[0mindex\u001b[0m\u001b[0;34m,\u001b[0m\u001b[0;34m\u001b[0m\u001b[0;34m\u001b[0m\u001b[0m\n",
            "\u001b[0;32m/usr/local/lib/python3.10/dist-packages/pandas/core/internals/construction.py\u001b[0m in \u001b[0;36mndarray_to_mgr\u001b[0;34m(values, index, columns, dtype, copy, typ)\u001b[0m\n\u001b[1;32m    335\u001b[0m     )\n\u001b[1;32m    336\u001b[0m \u001b[0;34m\u001b[0m\u001b[0m\n\u001b[0;32m--> 337\u001b[0;31m     \u001b[0m_check_values_indices_shape_match\u001b[0m\u001b[0;34m(\u001b[0m\u001b[0mvalues\u001b[0m\u001b[0;34m,\u001b[0m \u001b[0mindex\u001b[0m\u001b[0;34m,\u001b[0m \u001b[0mcolumns\u001b[0m\u001b[0;34m)\u001b[0m\u001b[0;34m\u001b[0m\u001b[0;34m\u001b[0m\u001b[0m\n\u001b[0m\u001b[1;32m    338\u001b[0m \u001b[0;34m\u001b[0m\u001b[0m\n\u001b[1;32m    339\u001b[0m     \u001b[0;32mif\u001b[0m \u001b[0mtyp\u001b[0m \u001b[0;34m==\u001b[0m \u001b[0;34m\"array\"\u001b[0m\u001b[0;34m:\u001b[0m\u001b[0;34m\u001b[0m\u001b[0;34m\u001b[0m\u001b[0m\n",
            "\u001b[0;32m/usr/local/lib/python3.10/dist-packages/pandas/core/internals/construction.py\u001b[0m in \u001b[0;36m_check_values_indices_shape_match\u001b[0;34m(values, index, columns)\u001b[0m\n\u001b[1;32m    406\u001b[0m         \u001b[0mpassed\u001b[0m \u001b[0;34m=\u001b[0m \u001b[0mvalues\u001b[0m\u001b[0;34m.\u001b[0m\u001b[0mshape\u001b[0m\u001b[0;34m\u001b[0m\u001b[0;34m\u001b[0m\u001b[0m\n\u001b[1;32m    407\u001b[0m         \u001b[0mimplied\u001b[0m \u001b[0;34m=\u001b[0m \u001b[0;34m(\u001b[0m\u001b[0mlen\u001b[0m\u001b[0;34m(\u001b[0m\u001b[0mindex\u001b[0m\u001b[0;34m)\u001b[0m\u001b[0;34m,\u001b[0m \u001b[0mlen\u001b[0m\u001b[0;34m(\u001b[0m\u001b[0mcolumns\u001b[0m\u001b[0;34m)\u001b[0m\u001b[0;34m)\u001b[0m\u001b[0;34m\u001b[0m\u001b[0;34m\u001b[0m\u001b[0m\n\u001b[0;32m--> 408\u001b[0;31m         \u001b[0;32mraise\u001b[0m \u001b[0mValueError\u001b[0m\u001b[0;34m(\u001b[0m\u001b[0;34mf\"Shape of passed values is {passed}, indices imply {implied}\"\u001b[0m\u001b[0;34m)\u001b[0m\u001b[0;34m\u001b[0m\u001b[0;34m\u001b[0m\u001b[0m\n\u001b[0m\u001b[1;32m    409\u001b[0m \u001b[0;34m\u001b[0m\u001b[0m\n\u001b[1;32m    410\u001b[0m \u001b[0;34m\u001b[0m\u001b[0m\n",
            "\u001b[0;31mValueError\u001b[0m: Shape of passed values is (80, 1), indices imply (80, 15)"
          ]
        }
      ]
    },
    {
      "cell_type": "code",
      "source": [
        "import pandas as pd\n",
        "import numpy as np\n",
        "from sklearn.linear_model import LinearRegression\n",
        "\n",
        "\n",
        "data= pd.read_csv(\"/content/ULTRATECH- climate parameter and regressions - Sheet1.csv\")\n",
        "# Remove commas from the data and convert columns to numeric\n",
        "for column in data.columns[1:]:\n",
        "    data[column] = data[column].astype(str).str.replace(',', '')\n",
        "    data[column] = pd.to_numeric(data[column], errors='coerce')\n",
        "\n",
        "data = data.drop(columns=['Total current liabilities'])\n",
        "data = data.drop(columns=['Total Non current liabilities'])\n",
        "\n",
        "# Prepare a DataFrame for future predictions\n",
        "future_years = np.arange(2025, 2101).reshape(-1, 1)\n",
        "future_predictions = []\n",
        "\n",
        "# Perform linear regression for each column and make predictions\n",
        "for column in data.columns[1:]:\n",
        "    # Prepare the data\n",
        "    X = data['Years'].values.reshape(-1, 1)\n",
        "    y = data[column].values\n",
        "\n",
        "    # Fit the model\n",
        "    model = LinearRegression()\n",
        "    model.fit(X, y)\n",
        "\n",
        "    # Make predictions for future years\n",
        "    future_predictions.append(model.predict(future_years))\n",
        "\n",
        "# Transpose future_predictions and convert it to a DataFrame\n",
        "future_predictions = np.array(future_predictions).T\n",
        "\n",
        "# Create a DataFrame for future predictions\n",
        "future_data = pd.DataFrame(future_predictions, columns=[\n",
        "    'Market value of equity(in crores)', 'Total Assets(in crores)',\n",
        "    'Total liablities( in crores)', 'EBIT (In crores)',\n",
        "    'Current Assets(in crores)', 'Current liabilities(in crores)',\n",
        "    'Working capital(in crores)', 'Sales(in crores)',\n",
        "    'Retained earnings(in crores)', 'WC/Total assets ', 'RE/Total Assets',\n",
        "    'EBIDTA/Total Assets', 'Market Cap/Total liablities',\n",
        "    'Sales/Total Assets', 'ALTMANS ZSCORE'\n",
        "])\n",
        "future_data['Years'] = future_years\n",
        "\n",
        "# Reorder columns to have 'Years' first\n",
        "future_data = future_data[['Years', 'Market value of equity(in crores)', 'Total Assets(in crores)',\n",
        "    'Total liablities( in crores)', 'EBIT (In crores)',\n",
        "    'Current Assets(in crores)', 'Current liabilities(in crores)',\n",
        "    'Working capital(in crores)', 'Sales(in crores)',\n",
        "    'Retained earnings(in crores)', 'WC/Total assets ', 'RE/Total Assets',\n",
        "    'EBIDTA/Total Assets', 'Market Cap/Total liablities',\n",
        "    'Sales/Total Assets', 'ALTMANS ZSCORE'\n",
        "]]\n",
        "\n",
        "# Save to CSV\n",
        "future_data.to_csv('future_predictions_zscore11.csv', index=False)\n",
        "\n",
        "print(\"Predictions saved to future_predictions11.csv\")\n"
      ],
      "metadata": {
        "colab": {
          "base_uri": "https://localhost:8080/"
        },
        "id": "phHqSHhMVNE8",
        "outputId": "ce95a6b6-5301-4556-eeb4-e52fc8a7ab21"
      },
      "execution_count": null,
      "outputs": [
        {
          "output_type": "stream",
          "name": "stdout",
          "text": [
            "Predictions saved to future_predictions11.csv\n"
          ]
        }
      ]
    },
    {
      "cell_type": "code",
      "source": [],
      "metadata": {
        "id": "it7Qd39bV8Ts"
      },
      "execution_count": null,
      "outputs": []
    }
  ]
}