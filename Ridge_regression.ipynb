{
  "nbformat": 4,
  "nbformat_minor": 0,
  "metadata": {
    "colab": {
      "provenance": [],
      "authorship_tag": "ABX9TyNT9wd0YlJLdMgvi5Obftkl",
      "include_colab_link": true
    },
    "kernelspec": {
      "name": "python3",
      "display_name": "Python 3"
    },
    "language_info": {
      "name": "python"
    }
  },
  "cells": [
    {
      "cell_type": "markdown",
      "metadata": {
        "id": "view-in-github",
        "colab_type": "text"
      },
      "source": [
        "<a href=\"https://colab.research.google.com/github/VaidehiJadhav2803/Regression--Credibl/blob/main/Ridge_regression.ipynb\" target=\"_parent\"><img src=\"https://colab.research.google.com/assets/colab-badge.svg\" alt=\"Open In Colab\"/></a>"
      ]
    },
    {
      "cell_type": "code",
      "execution_count": null,
      "metadata": {
        "colab": {
          "base_uri": "https://localhost:8080/",
          "height": 36
        },
        "id": "QTjSSVPY7Du9",
        "outputId": "9e242b18-dae1-4599-c6b9-ac2ebf4140e5"
      },
      "outputs": [
        {
          "output_type": "execute_result",
          "data": {
            "text/plain": [
              "'Ridge_Regression_Predictions.xlsx'"
            ],
            "application/vnd.google.colaboratory.intrinsic+json": {
              "type": "string"
            }
          },
          "metadata": {},
          "execution_count": 7
        }
      ],
      "source": [
        "import pandas as pd\n",
        "import numpy as np\n",
        "from sklearn.linear_model import Ridge\n",
        "from sklearn.preprocessing import StandardScaler\n",
        "import matplotlib.pyplot as plt\n",
        "\n",
        "# Load the dataset\n",
        "file_path = '/content/UPL_NORMAL AND RIDGE.xlsx'\n",
        "data = pd.read_excel(file_path)\n",
        "\n",
        "# Assuming the dataset has a 'Years' column as the feature and the rest are target variables\n",
        "X = data[['Years']].values\n",
        "y = data.drop(columns=['Years']).values\n",
        "\n",
        "# Standardizing the features\n",
        "scaler = StandardScaler()\n",
        "X_scaled = scaler.fit_transform(X)\n",
        "\n",
        "# Applying Ridge Regression for multiple targets\n",
        "ridge_reg = Ridge(alpha=1.0)  # Adjust the alpha parameter as needed\n",
        "ridge_reg.fit(X_scaled, y)\n",
        "\n",
        "# Extend the year range up to 2050\n",
        "future_years = np.arange(data['Years'].max() + 1, 2051).reshape(-1, 1)\n",
        "future_years_scaled = scaler.transform(future_years)\n",
        "\n",
        "# Predicting values up to 2050 for all target variables\n",
        "future_predictions = ridge_reg.predict(future_years_scaled)\n",
        "\n",
        "# Combine existing and future data into a single DataFrame\n",
        "combined_years = np.vstack((X, future_years)).flatten()\n",
        "combined_predictions = np.vstack((ridge_reg.predict(X_scaled), future_predictions))\n",
        "\n",
        "# Creating a DataFrame to store the results\n",
        "predictions_df = pd.DataFrame(combined_predictions, columns=data.columns[1:])\n",
        "predictions_df.insert(0, 'Years', combined_years)\n",
        "\n",
        "# Save the DataFrame to an Excel file\n",
        "output_file_path = 'Ridge_Regression_Predictions.xlsx'\n",
        "predictions_df.to_excel(output_file_path, index=False)\n",
        "\n",
        "# Print the file path for download\n",
        "output_file_path\n"
      ]
    },
    {
      "cell_type": "code",
      "source": [
        "print(X.shape, y.shape)\n"
      ],
      "metadata": {
        "colab": {
          "base_uri": "https://localhost:8080/"
        },
        "id": "yWZsqwHb7cxy",
        "outputId": "b7c14540-db01-41a7-e44c-11bf7e239682"
      },
      "execution_count": null,
      "outputs": [
        {
          "output_type": "stream",
          "name": "stdout",
          "text": [
            "(6, 1) (6, 16)\n"
          ]
        }
      ]
    },
    {
      "cell_type": "code",
      "source": [
        "import pandas as pd\n",
        "import numpy as np\n",
        "from sklearn.linear_model import Ridge\n",
        "from sklearn.preprocessing import StandardScaler\n",
        "import matplotlib.pyplot as plt\n",
        "\n",
        "# Load the dataset\n",
        "file_path = '/content/UPL_NORMAL AND RIDGE.xlsx'\n",
        "data = pd.read_excel(file_path)\n",
        "\n",
        "# Assuming the dataset has a 'Years' column as the feature and the rest are target variables\n",
        "X = data[['Years']].values\n",
        "y = data.drop(columns=['Years']).values\n",
        "\n",
        "# Standardizing the features\n",
        "scaler = StandardScaler()\n",
        "X_scaled = scaler.fit_transform(X)\n",
        "\n",
        "# Applying Ridge Regression for multiple targets\n",
        "ridge_reg = Ridge(alpha=1.0)  # Adjust the alpha parameter as needed\n",
        "ridge_reg.fit(X_scaled, y)\n",
        "\n",
        "# Extend the year range from 2024 to 2050\n",
        "future_years = np.arange(2024, 2051).reshape(-1, 1)\n",
        "future_years_scaled = scaler.transform(future_years)\n",
        "\n",
        "# Predicting values from 2024 to 2050 for all target variables\n",
        "future_predictions = ridge_reg.predict(future_years_scaled)\n",
        "\n",
        "# Creating a DataFrame for the new predictions\n",
        "future_predictions_df = pd.DataFrame(future_predictions, columns=data.columns[1:])\n",
        "future_predictions_df.insert(0, 'Years', future_years.flatten())\n",
        "\n",
        "# Save the predictions DataFrame to an Excel file\n",
        "output_file_path = 'Ridge_Regression_Predictions_2024_to_2050.xlsx'\n",
        "future_predictions_df.to_excel(output_file_path, index=False)\n",
        "\n",
        "# Print the file path for download\n",
        "output_file_path\n"
      ],
      "metadata": {
        "id": "YzYb2zQX76TW",
        "outputId": "ee2fcf3f-1f18-4b76-9922-3ec6a6b93d92",
        "colab": {
          "base_uri": "https://localhost:8080/",
          "height": 36
        }
      },
      "execution_count": null,
      "outputs": [
        {
          "output_type": "execute_result",
          "data": {
            "text/plain": [
              "'Ridge_Regression_Predictions_2024_to_2050.xlsx'"
            ],
            "application/vnd.google.colaboratory.intrinsic+json": {
              "type": "string"
            }
          },
          "metadata": {},
          "execution_count": 1
        }
      ]
    },
    {
      "cell_type": "code",
      "source": [
        "file_path = '/content/UPL_NORMAL AND RIDGE.xlsx'\n",
        "df = pd.read_excel(file_path)\n",
        "\n",
        "# Extract the 'Years' column as X and the rest as y\n",
        "X = df[['Years']].values\n",
        "y = df.drop(columns=['Years']).values\n",
        "\n",
        "# Standardize X\n",
        "scaler = StandardScaler()\n",
        "X_scaled = scaler.fit_transform(X)\n",
        "\n",
        "# Apply Ridge Regression\n",
        "ridge_reg = Ridge(alpha=1.0)\n",
        "ridge_reg.fit(X_scaled, y)\n",
        "\n",
        "# Generate future years from 2024 to 2050\n",
        "future_years = np.arange(2024, 2051).reshape(-1, 1)\n",
        "future_years_scaled = scaler.transform(future_years)\n",
        "\n",
        "# Predict values for future years\n",
        "future_predictions = ridge_reg.predict(future_years_scaled)\n",
        "\n",
        "# Combine future predictions with the original data\n",
        "combined_years = np.hstack((X.flatten(), future_years.flatten()))\n",
        "combined_predictions = np.vstack((y, future_predictions))\n",
        "\n",
        "# Create a DataFrame for the combined data\n",
        "predictions_df = pd.DataFrame(combined_predictions, columns=df.columns[1:])\n",
        "predictions_df.insert(0, 'Years', combined_years)\n",
        "\n",
        "# Save the predictions to a new Excel file\n",
        "output_file_path = 'Ridge_Regression_Predictions_2024_2050.xlsx'\n",
        "predictions_df.to_excel(output_file_path, index=False)\n",
        "\n",
        "output_file_path"
      ],
      "metadata": {
        "id": "XQeEVjun4mOF",
        "colab": {
          "base_uri": "https://localhost:8080/",
          "height": 36
        },
        "outputId": "85cb89f3-e0ca-4a55-8267-0f7e506b0e39"
      },
      "execution_count": 2,
      "outputs": [
        {
          "output_type": "execute_result",
          "data": {
            "text/plain": [
              "'Ridge_Regression_Predictions_2024_2050.xlsx'"
            ],
            "application/vnd.google.colaboratory.intrinsic+json": {
              "type": "string"
            }
          },
          "metadata": {},
          "execution_count": 2
        }
      ]
    },
    {
      "cell_type": "code",
      "source": [
        "import pandas as pd\n",
        "import numpy as np\n",
        "from sklearn.linear_model import Ridge\n",
        "from sklearn.preprocessing import StandardScaler\n",
        "\n",
        "# Load the dataset\n",
        "file_path = '/content/ULTRATECH_correct values for ridge.xlsx'\n",
        "df1 = pd.read_excel(file_path)\n",
        "\n",
        "# Extract the 'Years' column as X and the rest as y\n",
        "X = df1[['Years']].values\n",
        "y = df1.drop(columns=['Years']).values\n",
        "\n",
        "# Standardize X\n",
        "scaler = StandardScaler()\n",
        "X_scaled = scaler.fit_transform(X)\n",
        "\n",
        "# Apply Ridge Regression\n",
        "ridge_reg = Ridge(alpha=1.0)\n",
        "ridge_reg.fit(X_scaled, y)\n",
        "\n",
        "# Generate future years from 2024 to 2050\n",
        "future_years = np.arange(2024, 2051).reshape(-1, 1)\n",
        "future_years_scaled = scaler.transform(future_years)\n",
        "\n",
        "# Predict values for future years\n",
        "future_predictions = ridge_reg.predict(future_years_scaled)\n",
        "\n",
        "# Combine future predictions with the original data\n",
        "combined_years = np.hstack((X.flatten(), future_years.flatten()))\n",
        "combined_predictions = np.vstack((y, future_predictions))\n",
        "\n",
        "# Create a DataFrame for the combined data\n",
        "# Ensure that the number of columns matches between combined_predictions and df1.drop(columns=['Years'])\n",
        "predictions_df = pd.DataFrame(combined_predictions, columns=df1.columns[1:])\n",
        "predictions_df.insert(0, 'Years', combined_years)\n",
        "\n",
        "# Save the predictions to a new Excel file\n",
        "output_file_path = 'Ultratech_Ridge_Regression_Predictions11.xlsx'\n",
        "predictions_df.to_excel(output_file_path, index=False)\n",
        "\n",
        "output_file_path\n"
      ],
      "metadata": {
        "colab": {
          "base_uri": "https://localhost:8080/",
          "height": 36
        },
        "id": "apZrIduMGU8E",
        "outputId": "d8bc2d0f-2241-4269-f838-920b180ce0c1"
      },
      "execution_count": 6,
      "outputs": [
        {
          "output_type": "execute_result",
          "data": {
            "text/plain": [
              "'Ultratech_Ridge_Regression_Predictions11.xlsx'"
            ],
            "application/vnd.google.colaboratory.intrinsic+json": {
              "type": "string"
            }
          },
          "metadata": {},
          "execution_count": 6
        }
      ]
    },
    {
      "cell_type": "code",
      "source": [
        "import numpy as np\n",
        "import pandas as pd\n",
        "\n",
        "df= pd.read_excel(\"/content/ultratech interpolate.xlsx\")\n",
        "print(df)"
      ],
      "metadata": {
        "colab": {
          "base_uri": "https://localhost:8080/"
        },
        "id": "dMBMGuoUIgCP",
        "outputId": "0ac0f458-dc31-4541-9fc0-1debb0b44a48"
      },
      "execution_count": 11,
      "outputs": [
        {
          "output_type": "stream",
          "name": "stdout",
          "text": [
            "    Year  Price_Netzero  Price_DelayedT  Price_FragW\n",
            "0   2020         0.0000          0.0000       0.0000\n",
            "1   2021            NaN             NaN          NaN\n",
            "2   2022            NaN             NaN          NaN\n",
            "3   2023            NaN             NaN          NaN\n",
            "4   2024            NaN             NaN          NaN\n",
            "5   2025         0.0000          0.0000       0.0058\n",
            "6   2026            NaN             NaN          NaN\n",
            "7   2027            NaN             NaN          NaN\n",
            "8   2028            NaN             NaN          NaN\n",
            "9   2029            NaN             NaN          NaN\n",
            "10  2030       125.9752          0.0000       0.0000\n",
            "11  2031            NaN             NaN          NaN\n",
            "12  2032            NaN             NaN          NaN\n",
            "13  2033            NaN             NaN          NaN\n",
            "14  2034            NaN             NaN          NaN\n",
            "15  2035       194.3443         81.0527      31.5941\n",
            "16  2036            NaN             NaN          NaN\n",
            "17  2037            NaN             NaN          NaN\n",
            "18  2038            NaN             NaN          NaN\n",
            "19  2039            NaN             NaN          NaN\n",
            "20  2040       301.5165        129.2859      88.6097\n",
            "21  2041            NaN             NaN          NaN\n",
            "22  2042            NaN             NaN          NaN\n",
            "23  2043            NaN             NaN          NaN\n",
            "24  2044            NaN             NaN          NaN\n",
            "25  2045       556.9474        180.5330     126.5259\n",
            "26  2046            NaN             NaN          NaN\n",
            "27  2047            NaN             NaN          NaN\n",
            "28  2048            NaN             NaN          NaN\n",
            "29  2049            NaN             NaN          NaN\n",
            "30  2050       816.7364        278.7383     167.7490\n"
          ]
        }
      ]
    },
    {
      "cell_type": "code",
      "source": [
        "\n",
        "# Perform linear interpolation\n",
        "df['Interpolated_netzero'] = df['Price_Netzero'].interpolate(method='linear')\n",
        "df['Interpolated_delayedt'] = df['Price_DelayedT'].interpolate(method='linear')\n",
        "df['Interpolated_fargw'] = df['Price_FragW'].interpolate(method='linear')\n",
        "# Display the results\n",
        "print(df)\n",
        "\n",
        "# Optionally, save the interpolated values to a CSV file\n",
        "df.to_csv('interpolated_values(ULTRATECH).csv', index=False)\n"
      ],
      "metadata": {
        "colab": {
          "base_uri": "https://localhost:8080/"
        },
        "id": "AIrpQdWvNpYU",
        "outputId": "1c5b8237-7c02-43ed-b9a8-642179f39ed4"
      },
      "execution_count": 13,
      "outputs": [
        {
          "output_type": "stream",
          "name": "stdout",
          "text": [
            "    Year  Price_Netzero  Price_DelayedT  Price_FragW  Interpolated  \\\n",
            "0   2020         0.0000          0.0000       0.0000       0.00000   \n",
            "1   2021            NaN             NaN          NaN       0.00116   \n",
            "2   2022            NaN             NaN          NaN       0.00232   \n",
            "3   2023            NaN             NaN          NaN       0.00348   \n",
            "4   2024            NaN             NaN          NaN       0.00464   \n",
            "5   2025         0.0000          0.0000       0.0058       0.00580   \n",
            "6   2026            NaN             NaN          NaN       0.00464   \n",
            "7   2027            NaN             NaN          NaN       0.00348   \n",
            "8   2028            NaN             NaN          NaN       0.00232   \n",
            "9   2029            NaN             NaN          NaN       0.00116   \n",
            "10  2030       125.9752          0.0000       0.0000       0.00000   \n",
            "11  2031            NaN             NaN          NaN       6.31882   \n",
            "12  2032            NaN             NaN          NaN      12.63764   \n",
            "13  2033            NaN             NaN          NaN      18.95646   \n",
            "14  2034            NaN             NaN          NaN      25.27528   \n",
            "15  2035       194.3443         81.0527      31.5941      31.59410   \n",
            "16  2036            NaN             NaN          NaN      42.99722   \n",
            "17  2037            NaN             NaN          NaN      54.40034   \n",
            "18  2038            NaN             NaN          NaN      65.80346   \n",
            "19  2039            NaN             NaN          NaN      77.20658   \n",
            "20  2040       301.5165        129.2859      88.6097      88.60970   \n",
            "21  2041            NaN             NaN          NaN      96.19294   \n",
            "22  2042            NaN             NaN          NaN     103.77618   \n",
            "23  2043            NaN             NaN          NaN     111.35942   \n",
            "24  2044            NaN             NaN          NaN     118.94266   \n",
            "25  2045       556.9474        180.5330     126.5259     126.52590   \n",
            "26  2046            NaN             NaN          NaN     134.77052   \n",
            "27  2047            NaN             NaN          NaN     143.01514   \n",
            "28  2048            NaN             NaN          NaN     151.25976   \n",
            "29  2049            NaN             NaN          NaN     159.50438   \n",
            "30  2050       816.7364        278.7383     167.7490     167.74900   \n",
            "\n",
            "    Interpolated_netzero  Interpolated_delayedt  Interpolated_fargw  \n",
            "0                0.00000                0.00000             0.00000  \n",
            "1                0.00000                0.00000             0.00116  \n",
            "2                0.00000                0.00000             0.00232  \n",
            "3                0.00000                0.00000             0.00348  \n",
            "4                0.00000                0.00000             0.00464  \n",
            "5                0.00000                0.00000             0.00580  \n",
            "6               25.19504                0.00000             0.00464  \n",
            "7               50.39008                0.00000             0.00348  \n",
            "8               75.58512                0.00000             0.00232  \n",
            "9              100.78016                0.00000             0.00116  \n",
            "10             125.97520                0.00000             0.00000  \n",
            "11             139.64902               16.21054             6.31882  \n",
            "12             153.32284               32.42108            12.63764  \n",
            "13             166.99666               48.63162            18.95646  \n",
            "14             180.67048               64.84216            25.27528  \n",
            "15             194.34430               81.05270            31.59410  \n",
            "16             215.77874               90.69934            42.99722  \n",
            "17             237.21318              100.34598            54.40034  \n",
            "18             258.64762              109.99262            65.80346  \n",
            "19             280.08206              119.63926            77.20658  \n",
            "20             301.51650              129.28590            88.60970  \n",
            "21             352.60268              139.53532            96.19294  \n",
            "22             403.68886              149.78474           103.77618  \n",
            "23             454.77504              160.03416           111.35942  \n",
            "24             505.86122              170.28358           118.94266  \n",
            "25             556.94740              180.53300           126.52590  \n",
            "26             608.90520              200.17406           134.77052  \n",
            "27             660.86300              219.81512           143.01514  \n",
            "28             712.82080              239.45618           151.25976  \n",
            "29             764.77860              259.09724           159.50438  \n",
            "30             816.73640              278.73830           167.74900  \n"
          ]
        }
      ]
    },
    {
      "cell_type": "code",
      "source": [
        "import pandas as pd\n",
        "import numpy as np\n",
        "from sklearn.linear_model import Ridge\n",
        "from sklearn.preprocessing import StandardScaler\n",
        "\n",
        "# Load the dataset\n",
        "file_path = '/content/jsw_ridge regression.xlsx'\n",
        "df1 = pd.read_excel(file_path)\n",
        "\n",
        "# Extract the 'Years' column as X and the rest as y\n",
        "X = df1[['Years']].values\n",
        "y = df1.drop(columns=['Years']).values\n",
        "\n",
        "# Standardize X\n",
        "scaler = StandardScaler()\n",
        "X_scaled = scaler.fit_transform(X)\n",
        "\n",
        "# Apply Ridge Regression\n",
        "ridge_reg = Ridge(alpha=1.0)\n",
        "ridge_reg.fit(X_scaled, y)\n",
        "\n",
        "# Generate future years from 2024 to 2050\n",
        "future_years = np.arange(2024, 2051).reshape(-1, 1)\n",
        "future_years_scaled = scaler.transform(future_years)\n",
        "\n",
        "# Predict values for future years\n",
        "future_predictions = ridge_reg.predict(future_years_scaled)\n",
        "\n",
        "# Combine future predictions with the original data\n",
        "combined_years = np.hstack((X.flatten(), future_years.flatten()))\n",
        "combined_predictions = np.vstack((y, future_predictions))\n",
        "\n",
        "# Create a DataFrame for the combined data\n",
        "# Ensure that the number of columns matches between combined_predictions and df1.drop(columns=['Years'])\n",
        "predictions_df = pd.DataFrame(combined_predictions, columns=df1.columns[1:])\n",
        "predictions_df.insert(0, 'Years', combined_years)\n",
        "\n",
        "# Save the predictions to a new Excel file\n",
        "output_file_path = 'jsw_Ridge_Regression_Predictions11.xlsx'\n",
        "predictions_df.to_excel(output_file_path, index=False)\n",
        "\n",
        "output_file_path\n"
      ],
      "metadata": {
        "colab": {
          "base_uri": "https://localhost:8080/",
          "height": 36
        },
        "id": "EGZsKKIBPVhX",
        "outputId": "c876ce84-49de-4ea3-c970-a97eae9a61b5"
      },
      "execution_count": 14,
      "outputs": [
        {
          "output_type": "execute_result",
          "data": {
            "text/plain": [
              "'jsw_Ridge_Regression_Predictions11.xlsx'"
            ],
            "application/vnd.google.colaboratory.intrinsic+json": {
              "type": "string"
            }
          },
          "metadata": {},
          "execution_count": 14
        }
      ]
    },
    {
      "cell_type": "code",
      "source": [
        "import pandas as pd\n",
        "import numpy as np\n",
        "from sklearn.linear_model import Ridge\n",
        "from sklearn.preprocessing import StandardScaler\n",
        "\n",
        "# Load the dataset\n",
        "file_path = '/content/jsw_Assets.xlsx'\n",
        "df1 = pd.read_excel(file_path)\n",
        "\n",
        "# Extract the 'Years' column as X and the rest as y\n",
        "X = df1[['Years']].values\n",
        "y = df1.drop(columns=['Years']).values\n",
        "\n",
        "# Standardize X\n",
        "scaler = StandardScaler()\n",
        "X_scaled = scaler.fit_transform(X)\n",
        "\n",
        "# Apply Ridge Regression\n",
        "ridge_reg = Ridge(alpha=1.0)\n",
        "ridge_reg.fit(X_scaled, y)\n",
        "\n",
        "# Generate future years from 2024 to 2050\n",
        "future_years = np.arange(2024, 2051).reshape(-1, 1)\n",
        "future_years_scaled = scaler.transform(future_years)\n",
        "\n",
        "# Predict values for future years\n",
        "future_predictions = ridge_reg.predict(future_years_scaled)\n",
        "\n",
        "# Combine future predictions with the original data\n",
        "combined_years = np.hstack((X.flatten(), future_years.flatten()))\n",
        "combined_predictions = np.vstack((y, future_predictions))\n",
        "\n",
        "# Create a DataFrame for the combined data\n",
        "# Ensure that the number of columns matches between combined_predictions and df1.drop(columns=['Years'])\n",
        "predictions_df = pd.DataFrame(combined_predictions, columns=df1.columns[1:])\n",
        "predictions_df.insert(0, 'Years', combined_years)\n",
        "\n",
        "# Save the predictions to a new Excel file\n",
        "output_file_path = 'jsw_assets.xlsx'\n",
        "predictions_df.to_excel(output_file_path, index=False)\n",
        "\n",
        "output_file_path\n"
      ],
      "metadata": {
        "colab": {
          "base_uri": "https://localhost:8080/",
          "height": 36
        },
        "id": "d-EDCSUCUeqk",
        "outputId": "ae1caf54-54cd-4dc4-b925-1498d0d7c25b"
      },
      "execution_count": 1,
      "outputs": [
        {
          "output_type": "execute_result",
          "data": {
            "text/plain": [
              "'jsw_assets.xlsx'"
            ],
            "application/vnd.google.colaboratory.intrinsic+json": {
              "type": "string"
            }
          },
          "metadata": {},
          "execution_count": 1
        }
      ]
    },
    {
      "cell_type": "code",
      "source": [],
      "metadata": {
        "id": "FIz26I7UEIXK"
      },
      "execution_count": null,
      "outputs": []
    }
  ]
}