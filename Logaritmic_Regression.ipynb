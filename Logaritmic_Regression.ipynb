{
  "nbformat": 4,
  "nbformat_minor": 0,
  "metadata": {
    "colab": {
      "provenance": [],
      "authorship_tag": "ABX9TyPbFbESAycu3O44NjfuSZdw",
      "include_colab_link": true
    },
    "kernelspec": {
      "name": "python3",
      "display_name": "Python 3"
    },
    "language_info": {
      "name": "python"
    }
  },
  "cells": [
    {
      "cell_type": "markdown",
      "metadata": {
        "id": "view-in-github",
        "colab_type": "text"
      },
      "source": [
        "<a href=\"https://colab.research.google.com/github/VaidehiJadhav2803/Regression--Credibl/blob/main/Logaritmic_Regression.ipynb\" target=\"_parent\"><img src=\"https://colab.research.google.com/assets/colab-badge.svg\" alt=\"Open In Colab\"/></a>"
      ]
    },
    {
      "cell_type": "code",
      "execution_count": null,
      "metadata": {
        "colab": {
          "base_uri": "https://localhost:8080/"
        },
        "id": "LgLRC5KnTP1M",
        "outputId": "5c1ab09c-5955-4fdc-da26-9b74d8b93c70"
      },
      "outputs": [
        {
          "output_type": "stream",
          "name": "stdout",
          "text": [
            "   Years  Total assets- current year  Total assets- previous year  \\\n",
            "0   2018                       12050                            0   \n",
            "1   2019                       13903                        12050   \n",
            "2   2020                       13828                        13903   \n",
            "3   2021                       15283                        13828   \n",
            "4   2022                       19633                        15283   \n",
            "5   2023                       17944                        19633   \n",
            "\n",
            "   Average assets  Profut before tax  Tax expense  Net profit  EBITDA    DA  \\\n",
            "0         12050.0                576           28         548    3517   666   \n",
            "1         12976.5                486           81         405    6312   724   \n",
            "2         13865.5                538           77         461    7452  2230   \n",
            "3         14555.5                434          214         220    8559   977   \n",
            "4         17458.0               1261           85        1176   10165  1044   \n",
            "5         18788.5               1284          309         975   11178   951   \n",
            "\n",
            "    EBIT  Retained earnings  Sales  Total liablities  Curent assets  \\\n",
            "0   2851               7500   7809             12050           4561   \n",
            "1   5588              12306   9220             13903           6152   \n",
            "2   5222              16143  10147              5804           5600   \n",
            "3   7582              17748  11458              7497           7257   \n",
            "4   9121              15395  17080             11432          11486   \n",
            "5  10227              20341  19245             10876           9316   \n",
            "\n",
            "   Current liablities  Working cap  Market value of equity  \n",
            "0                7642        -3081                   17378  \n",
            "1               15564        -9412                   21837  \n",
            "2                5096          504                   35756  \n",
            "3                6793          464                   38694  \n",
            "4               10053         1433                   46240  \n",
            "5                8750          566                   53576  \n"
          ]
        }
      ],
      "source": [
        "import pandas as pd\n",
        "import numpy as np\n",
        "import matplotlib.pyplot as plt\n",
        "from sklearn.linear_model import LinearRegression\n",
        "\n",
        "# Load the dataset\n",
        "data2 = pd.read_excel('/content/UPL-EXPO REGRESSION-MODIFIED.xlsx')\n",
        "print(data2)"
      ]
    },
    {
      "cell_type": "code",
      "source": [
        "# Extract features and target variables\n",
        "X2 = data2['Years'].values.reshape(-1, 1)\n",
        "y2 = data2[['Total assets- current year', 'Total assets- previous year',\n",
        "       'Average assets', 'Profut before tax', 'Tax expense', 'Net profit',\n",
        "       'EBITDA', 'DA', 'EBIT', 'Retained earnings', 'Sales',\n",
        "       'Total liablities', 'Curent assets', 'Current liablities',\n",
        "       'Working cap', 'Market value of equity']].values\n",
        "\n",
        "# Transform the feature variable using logarithm\n",
        "X2_log = np.log1p(X2)  # Using log1p for stability (log(1 + X))\n",
        "\n",
        "# Fit a linear regression model on log-transformed feature variable\n",
        "model = LinearRegression()\n",
        "model.fit(X2_log, y2)\n",
        "\n",
        "# Predicting for future years\n",
        "future_years = np.arange(2024, 2051).reshape(-1, 1)\n",
        "future_years_log = np.log1p(future_years)\n",
        "future_pred = model.predict(future_years_log)\n",
        "\n",
        "# Prepare DataFrame for future predictions\n",
        "future_data = pd.DataFrame(future_pred, columns=['Total assets- current year', 'Total assets- previous year',\n",
        "       'Average assets', 'Profut before tax', 'Tax expense', 'Net profit',\n",
        "       'EBITDA', 'DA', 'EBIT', 'Retained earnings', 'Sales',\n",
        "       'Total liablities', 'Curent assets', 'Current liablities',\n",
        "       'Working cap', 'Market value of equity'])\n",
        "\n",
        "future_data['Years'] = future_years\n",
        "\n",
        "# Reorder columns\n",
        "future_data = future_data[['Years', 'Total assets- current year', 'Total assets- previous year',\n",
        "       'Average assets', 'Profut before tax', 'Tax expense', 'Net profit',\n",
        "       'EBITDA', 'DA', 'EBIT', 'Retained earnings', 'Sales',\n",
        "       'Total liablities', 'Curent assets', 'Current liablities',\n",
        "       'Working cap', 'Market value of equity']]\n",
        "\n",
        "# Save to CSV\n",
        "future_data.to_csv('UPL_ROAANDPD_LOG_REG.csv', index=False)\n",
        "\n",
        "print(\"Predictions saved as UPL_ROAANDPD_LOG_REG.csv\")\n"
      ],
      "metadata": {
        "colab": {
          "base_uri": "https://localhost:8080/"
        },
        "id": "h5rArUGaX41X",
        "outputId": "8c452bc0-c363-47d3-84f0-3d8afdd84f37"
      },
      "execution_count": null,
      "outputs": [
        {
          "output_type": "stream",
          "name": "stdout",
          "text": [
            "Predictions saved as UPL_ROAANDPD_LOG_REG.csv\n"
          ]
        }
      ]
    },
    {
      "cell_type": "code",
      "source": [
        "import pandas as pd\n",
        "import numpy as np\n",
        "import matplotlib.pyplot as plt\n",
        "from sklearn.linear_model import LinearRegression\n",
        "\n",
        "# Load the dataset\n",
        "data1 = pd.read_excel('/content/JSW STEEL-LOG APPROACH.xlsx')\n",
        "print(data1)"
      ],
      "metadata": {
        "colab": {
          "base_uri": "https://localhost:8080/"
        },
        "id": "f94brUK8YEaC",
        "outputId": "b42d4866-90a7-468a-a476-76590a525847"
      },
      "execution_count": null,
      "outputs": [
        {
          "output_type": "stream",
          "name": "stdout",
          "text": [
            "   Years  Total assets- current year  Total assets- previous year  \\\n",
            "0   2018                     92018.0                        80911   \n",
            "1   2019                    104902.0                        92018   \n",
            "2   2020                    122042.0                       104902   \n",
            "3   2021                    133232.0                       122042   \n",
            "4   2022                    162870.0                       133232   \n",
            "5   2023                    167959.9                       162870   \n",
            "\n",
            "   Average assets  Profit before tax  Tax expense  Net profit  EBITDA    DA  \\\n",
            "0        86464.50               7075     2450.000    4625.000   14794  3054   \n",
            "1        98460.00              11817     3558.000    8259.000   18952  3421   \n",
            "2       113472.00               3013     -999.000    4012.000   11873  3522   \n",
            "3       127637.00              12052     3803.000    8249.000   20141  3781   \n",
            "4       148051.00              24715     8013.000   16702.000   39007  4511   \n",
            "5       165414.95              21104     6209.571   14894.429   18547  4952   \n",
            "\n",
            "    EBIT  Retained Earnings   Sales  Total liablities  Current assets  \\\n",
            "0  11740               7528   67936             64484           19253   \n",
            "1  15531              13736   77246             80569           28009   \n",
            "2   8351              17709   64890             83680           29375   \n",
            "3  16360              25678   71396             86255           29703   \n",
            "4  34496              40245  120749             99369           47485   \n",
            "5  13595              42627  166990            109182           49144   \n",
            "\n",
            "   Current liablities  Working cap  Market cap  \n",
            "0               25205        -5952       68500  \n",
            "1               34398        -6389       70837  \n",
            "2               35594        -6219       35352  \n",
            "3               37040        -7337      113235  \n",
            "4               46134         1351      177098  \n",
            "5               49335         -191      166329  \n"
          ]
        }
      ]
    },
    {
      "cell_type": "code",
      "source": [
        "# Extract features and target variables\n",
        "X1 = data1['Years'].values.reshape(-1, 1)\n",
        "y1 = data1[['Total assets- current year', 'Total assets- previous year',\n",
        "       'Average assets', 'Profit before tax', 'Tax expense', 'Net profit',\n",
        "       'EBITDA', 'DA', 'EBIT', 'Retained Earnings', 'Sales',\n",
        "       'Total liablities', 'Current assets', 'Current liablities',\n",
        "       'Working cap', 'Market cap']].values\n",
        "\n",
        "# Transform the feature variable using logarithm\n",
        "X1_log = np.log1p(X1)  # Using log1p for stability (log(1 + X))\n",
        "\n",
        "# Fit a linear regression model on log-transformed feature variable\n",
        "model = LinearRegression()\n",
        "model.fit(X1_log, y1)\n",
        "\n",
        "# Predicting for future years\n",
        "future_years = np.arange(2024, 2051).reshape(-1, 1)\n",
        "future_years_log = np.log1p(future_years)\n",
        "future_pred = model.predict(future_years_log)\n",
        "\n",
        "# Prepare DataFrame for future predictions\n",
        "future_data = pd.DataFrame(future_pred, columns=['Total assets- current year', 'Total assets- previous year',\n",
        "       'Average assets', 'Profit before tax', 'Tax expense', 'Net profit',\n",
        "       'EBITDA', 'DA', 'EBIT', 'Retained Earnings', 'Sales',\n",
        "       'Total liablities', 'Current assets', 'Current liablities',\n",
        "       'Working cap', 'Market cap'])\n",
        "\n",
        "future_data['Years'] = future_years\n",
        "\n",
        "# Reorder columns\n",
        "future_data = future_data[['Years','Total assets- current year', 'Total assets- previous year',\n",
        "       'Average assets', 'Profit before tax', 'Tax expense', 'Net profit',\n",
        "       'EBITDA', 'DA', 'EBIT', 'Retained Earnings', 'Sales',\n",
        "       'Total liablities', 'Current assets', 'Current liablities',\n",
        "       'Working cap', 'Market cap']]\n",
        "\n",
        "# Save to CSV\n",
        "future_data.to_csv('JSW_ROAANDPD_LOG_REG1.csv', index=False)\n",
        "\n",
        "print(\"Predictions saved.csv\")\n"
      ],
      "metadata": {
        "colab": {
          "base_uri": "https://localhost:8080/"
        },
        "id": "jtKY9_mAa1lw",
        "outputId": "d6333ced-a6bb-43b8-b366-09299cd32eae"
      },
      "execution_count": null,
      "outputs": [
        {
          "output_type": "stream",
          "name": "stdout",
          "text": [
            "Predictions saved.csv\n"
          ]
        }
      ]
    },
    {
      "cell_type": "code",
      "source": [
        "import pandas as pd\n",
        "import numpy as np\n",
        "import matplotlib.pyplot as plt\n",
        "from sklearn.linear_model import LinearRegression\n",
        "\n",
        "# Load the dataset\n",
        "df1 = pd.read_excel('/content/ULTRATECGH_NEW REGRESSIONS.xlsx')\n",
        "print(df1)"
      ],
      "metadata": {
        "id": "d3s-yjSea-Qg",
        "colab": {
          "base_uri": "https://localhost:8080/"
        },
        "outputId": "7d022ae9-28aa-46ac-fb00-cf13256695fa"
      },
      "execution_count": 1,
      "outputs": [
        {
          "output_type": "stream",
          "name": "stdout",
          "text": [
            "   Years  Current year assets  Previous year assets  Average Assets  \\\n",
            "0   2018                52373                     0         26186.5   \n",
            "1   2019                58436                 52373         55404.5   \n",
            "2   2020                71816                 58436         65126.0   \n",
            "3   2021                80416                 71816         76116.0   \n",
            "4   2022                80661                 80416         80538.5   \n",
            "5   2023                86900                 80661         83780.5   \n",
            "\n",
            "   Profit before tax  Tax expense  Net Profit(PBT- Tax expense)  \\\n",
            "0               3528         1071                          2457   \n",
            "1               3606         1080                          2526   \n",
            "2               5220          236                          4984   \n",
            "3               8060         2554                          5506   \n",
            "4               8293         1227                          7066   \n",
            "5               7246         2329                          4917   \n",
            "\n",
            "   Market value of equity  Total assets  Total liablities  EBIT  \\\n",
            "0                  108473         52373             54830  4719   \n",
            "1                  109812         58436             60962  4982   \n",
            "2                   93656         71816             33520  6924   \n",
            "3                  194493         80416             37065  9319   \n",
            "4                  190589         80661             31390  9091   \n",
            "5                  220041         86900             35005  8001   \n",
            "\n",
            "   Current Assets(in crores)  Current liabilities(in crores)  \\\n",
            "0                      10585                           11225   \n",
            "1                      11478                           11863   \n",
            "2                      14714                           14263   \n",
            "3                      22982                           19587   \n",
            "4                      18983                           19172   \n",
            "5                      21847                           22248   \n",
            "\n",
            "   Working capital(in crores)  Sales(in crores)  Retained earnings(in crores)  \n",
            "0                        -640             30851                          5042  \n",
            "1                        -385             36174                          5299  \n",
            "2                         451             42772                          5372  \n",
            "3                       -1878             43188                          5893  \n",
            "4                       -1564             50663                          7091  \n",
            "5                       -2707             61326                          7934  \n"
          ]
        }
      ]
    },
    {
      "cell_type": "code",
      "source": [
        "print(df1.columns)"
      ],
      "metadata": {
        "colab": {
          "base_uri": "https://localhost:8080/"
        },
        "id": "4AxO2_WYPIYf",
        "outputId": "590a6e22-b890-40c0-c070-bf7f8d9335dd"
      },
      "execution_count": 2,
      "outputs": [
        {
          "output_type": "stream",
          "name": "stdout",
          "text": [
            "Index(['Years', 'Current year assets', 'Previous year assets',\n",
            "       'Average Assets', 'Profit before tax', 'Tax expense',\n",
            "       'Net Profit(PBT- Tax expense)', 'Market value of equity',\n",
            "       'Total assets', 'Total liablities', 'EBIT', 'Current Assets(in crores)',\n",
            "       'Current liabilities(in crores)', 'Working capital(in crores)',\n",
            "       'Sales(in crores)', 'Retained earnings(in crores)'],\n",
            "      dtype='object')\n"
          ]
        }
      ]
    },
    {
      "cell_type": "code",
      "source": [
        "# Extract features and target variables\n",
        "X1 = df1['Years'].values.reshape(-1, 1)\n",
        "y1 = df1[['Current year assets', 'Previous year assets',\n",
        "       'Average Assets', 'Profit before tax', 'Tax expense',\n",
        "       'Net Profit(PBT- Tax expense)', 'Market value of equity',\n",
        "       'Total assets', 'Total liablities', 'EBIT', 'Current Assets(in crores)',\n",
        "       'Current liabilities(in crores)', 'Working capital(in crores)',\n",
        "       'Sales(in crores)', 'Retained earnings(in crores)']].values\n",
        "\n",
        "# Transform the feature variable using logarithm\n",
        "X1_log = np.log1p(X1)  # Using log1p for stability (log(1 + X))\n",
        "\n",
        "# Fit a linear regression model on log-transformed feature variable\n",
        "model = LinearRegression()\n",
        "model.fit(X1_log, y1)\n",
        "\n",
        "# Predicting for future years\n",
        "future_years = np.arange(2024, 2051).reshape(-1, 1)\n",
        "future_years_log = np.log1p(future_years)\n",
        "future_pred = model.predict(future_years_log)\n",
        "\n",
        "# Prepare DataFrame for future predictions\n",
        "future_data = pd.DataFrame(future_pred, columns=['Current year assets', 'Previous year assets',\n",
        "       'Average Assets', 'Profit before tax', 'Tax expense',\n",
        "       'Net Profit(PBT- Tax expense)', 'Market value of equity',\n",
        "       'Total assets', 'Total liablities', 'EBIT', 'Current Assets(in crores)',\n",
        "       'Current liabilities(in crores)', 'Working capital(in crores)',\n",
        "       'Sales(in crores)', 'Retained earnings(in crores)'])\n",
        "\n",
        "future_data['Years'] = future_years\n",
        "\n",
        "# Reorder columns\n",
        "future_data = future_data[['Years', 'Current year assets', 'Previous year assets',\n",
        "       'Average Assets', 'Profit before tax', 'Tax expense',\n",
        "       'Net Profit(PBT- Tax expense)', 'Market value of equity',\n",
        "       'Total assets', 'Total liablities', 'EBIT', 'Current Assets(in crores)',\n",
        "       'Current liabilities(in crores)', 'Working capital(in crores)',\n",
        "       'Sales(in crores)', 'Retained earnings(in crores)']]\n",
        "\n",
        "# Save to CSV\n",
        "future_data.to_csv('ULTRATCEH_ROAANDPD_LOG_REG1.csv', index=False)\n",
        "\n",
        "print(\"Predictions saved.csv\")\n"
      ],
      "metadata": {
        "colab": {
          "base_uri": "https://localhost:8080/"
        },
        "id": "sJV59-CLPD3X",
        "outputId": "4ac89f77-bc6d-4ce1-c8bc-a20c0e2e4da8"
      },
      "execution_count": 4,
      "outputs": [
        {
          "output_type": "stream",
          "name": "stdout",
          "text": [
            "Predictions saved.csv\n"
          ]
        }
      ]
    },
    {
      "cell_type": "code",
      "source": [],
      "metadata": {
        "id": "2jj8y26NPVB6"
      },
      "execution_count": null,
      "outputs": []
    }
  ]
}